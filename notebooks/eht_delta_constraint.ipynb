{
  "cells": [
    {
      "cell_type": "markdown",
      "metadata": {},
      "source": [
        "### Notebook: eht_delta_constraint.ipynb\n",
        "\n",
        "**Objective:** Extract constraints on δ from Event Horizon Telescope observations of Sgr A* and M87*, using shadow size measurements and mass/distance priors.\n"
      ]
    },
    {
      "cell_type": "code",
      "execution_count": null,
      "metadata": {},
      "outputs": [],
      "source": [
        "import numpy as np\n",
        "import matplotlib.pyplot as plt\n",
        "import json\n",
        "\n",
        "# Load EHT priors\n",
        "with open('../data/eht_priors.json', 'r') as f:\n",
        "    eht_data = json.load(f)\n",
        "\n",
        "print(\"EHT constraints on δ:\")\n",
        "for source in ['SgrA', 'M87']:\n",
        "    data = eht_data[source]\n",
        "    delta_mean = data['delta_constraint']['mean']\n",
        "    delta_std = data['delta_constraint']['std']\n",
        "    print(f\"{source}: δ = {delta_mean:.3f} ± {delta_std:.3f}\")\n",
        "\n",
        "# Combined EHT constraint\n",
        "delta_sgr = eht_data['SgrA']['delta_constraint']\n",
        "delta_m87 = eht_data['M87']['delta_constraint']\n",
        "\n",
        "# Weighted average\n",
        "weights = [1/delta_sgr['std']**2, 1/delta_m87['std']**2]\n",
        "delta_combined = np.average([delta_sgr['mean'], delta_m87['mean']], weights=weights)\n",
        "delta_combined_err = 1/np.sqrt(sum(weights))\n",
        "\n",
        "print(f\"\\\\nCombined EHT: δ = {delta_combined:.3f} ± {delta_combined_err:.3f}\")\n",
        "\n",
        "# Compare with universal value\n",
        "delta_universal = 0.502\n",
        "print(f\"Universal value: δ = {delta_universal:.3f}\")\n",
        "print(f\"Agreement: {abs(delta_combined - delta_universal)/delta_combined_err:.2f}σ\")\n"
      ]
    }
  ],
  "metadata": {
    "language_info": {
      "name": "python"
    }
  },
  "nbformat": 4,
  "nbformat_minor": 2
}
