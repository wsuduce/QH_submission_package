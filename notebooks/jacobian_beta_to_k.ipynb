{
  "cells": [
    {
      "cell_type": "markdown",
      "metadata": {},
      "source": [
        "### Notebook: jacobian_beta_to_k.ipynb\n",
        "\n",
        "**Objective:** This notebook demonstrates how the intrinsic QH decay rate `β/α`, defined in proper time, maps to the observed exponential decay constant `k` in redshift space. We will show that the cosmological time-dilation effect, known as the Jacobian, naturally accounts for the factor-of-10 difference between the lab value of `β` and the cosmologically observed `k`.\n"
      ]
    },
    {
      "cell_type": "markdown",
      "metadata": {},
      "source": [
        "#### 1. Setup and Constants\n",
        "\n",
        "First, we import the necessary libraries and define the core QH and cosmological parameters. We'll use standard Planck 2018 values for the cosmology.\n"
      ]
    },
    {
      "cell_type": "code",
      "execution_count": null,
      "metadata": {},
      "outputs": [],
      "source": [
        "import numpy as np\n",
        "import matplotlib.pyplot as plt\n",
        "from astropy.cosmology import FlatLambdaCDM\n",
        "import astropy.units as u\n",
        "\n",
        "# QH Parameters\n",
        "alpha = 0.314\n",
        "beta_lab = 0.0158\n",
        "\n",
        "# Observational Results from MCMC fit\n",
        "k_obs = 0.521\n",
        "k_err = 0.057\n",
        "\n",
        "# Cosmological Parameters (Planck 2018)\n",
        "H0 = 67.4\n",
        "Om0 = 0.315\n",
        "\n",
        "# Define the cosmology using Astropy\n",
        "cosmo = FlatLambdaCDM(H0=H0, Om0=Om0)\n"
      ]
    },
    {
      "cell_type": "markdown",
      "metadata": {},
      "source": [
        "#### 2. The Time-Redshift Jacobian\n",
        "\n",
        "The effective scaling factor between the intrinsic decay rate (`β/α`) and the observed one (`k`) is proportional to the function $C(z) = (1+z)H(z)/H_0$. This factor quantifies how much \"faster\" the universe evolves in redshift space compared to proper time at a given epoch. A decay process with a constant rate in time will appear to have a redshift-dependent rate `k_pred(z)`.\n",
        "\n",
        "$$k_{\\\\rm pred}(z) = \\\\frac{\\\\beta_{\\\\rm lab}}{\\\\alpha} \\\\times \\\\frac{(1+z)H(z)}{H_0}$$\n",
        "\n",
        "We can now calculate this predicted `k` across our redshift range of interest, `z = [4, 8]`.\n"
      ]
    },
    {
      "cell_type": "code",
      "execution_count": null,
      "metadata": {},
      "outputs": [],
      "source": [
        "# Create a redshift range for plotting\n",
        "z_range = np.linspace(0, 10, 200)\n",
        "\n",
        "# Calculate the Jacobian scaling factor C(z)\n",
        "C_z = (1 + z_range) * cosmo.H(z_range).value / cosmo.H0.value\n",
        "\n",
        "# Calculate the predicted k(z)\n",
        "k_predicted_z = (beta_lab / alpha) * C_z\n",
        "\n",
        "# Find the average predicted k in the MIDIS survey range [4, 8]\n",
        "midis_mask = (z_range >= 4) & (z_range <= 8)\n",
        "k_predicted_avg = np.mean(k_predicted_z[midis_mask])\n",
        "\n",
        "print(f\"Intrinsic decay rate (β/α): {beta_lab/alpha:.4f}\")\n",
        "print(f\"Average Jacobian factor C(z) for z in [4, 8]: {np.mean(C_z[midis_mask]):.2f}\")\n",
        "print(f\"Predicted k from Jacobian mapping: {k_predicted_avg:.3f}\")\n"
      ]
    },
    {
      "cell_type": "markdown",
      "metadata": {},
      "source": [
        "#### 3. Visualization and Comparison\n",
        "\n",
        "Now we plot the predicted `k(z)` and compare its average value in the JWST/MIDIS redshift range to the value of `k=0.521` we observed in our MCMC fit.\n"
      ]
    },
    {
      "cell_type": "code",
      "execution_count": null,
      "metadata": {},
      "outputs": [],
      "source": [
        "plt.style.use('seaborn-v0_8-whitegrid')\n",
        "fig, ax = plt.subplots(figsize=(10, 6))\n",
        "\n",
        "# Plot the predicted k(z)\n",
        "ax.plot(z_range, k_predicted_z, color='darkslateblue', lw=2, label=r'Predicted $k(z) = (\\beta/\\alpha) \\times C(z)$')\n",
        "\n",
        "# Highlight the observed k value and its uncertainty\n",
        "ax.axhspan(k_obs - k_err, k_obs + k_err, color='crimson', alpha=0.2, label=f'Observed $k = {k_obs} \\pm {k_err}$')\n",
        "ax.axhline(k_obs, color='crimson', ls='--', lw=1.5)\n",
        "\n",
        "# Highlight the MIDIS redshift range\n",
        "ax.axvspan(4, 8, color='gray', alpha=0.15, label='MIDIS z Range')\n",
        "\n",
        "# Mark the average predicted value in that range\n",
        "ax.plot([4, 8], [k_predicted_avg, k_predicted_avg], color='dodgerblue', ls='-', marker='|', ms=10, lw=2, label=f'Avg. Predicted $k = {k_predicted_avg:.3f}$')\n",
        "\n",
        "ax.set_xlabel('Redshift z', fontsize=14)\n",
        "ax.set_ylabel('Effective Decay Constant k', fontsize=14)\n",
        "ax.set_title('QH Jacobian Mapping: Intrinsic β to Observed k', fontsize=16)\n",
        "ax.legend(fontsize=12)\n",
        "ax.set_xlim(0, 10)\n",
        "ax.set_ylim(0, 1.0)\n",
        "ax.tick_params(axis='both', which='major', labelsize=12)\n",
        "\n",
        "# Save the figure\n",
        "plt.savefig('../figures/jacobian_factor.png', dpi=150, bbox_inches='tight')\n",
        "plt.show()\n"
      ]
    },
    {
      "cell_type": "markdown",
      "metadata": {},
      "source": []
    }
  ],
  "metadata": {
    "language_info": {
      "name": "python"
    }
  },
  "nbformat": 4,
  "nbformat_minor": 2
}
