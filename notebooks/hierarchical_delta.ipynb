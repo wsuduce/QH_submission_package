{
  "cells": [
    {
      "cell_type": "markdown",
      "metadata": {},
      "source": [
        "### Notebook: hierarchical_delta.ipynb\n",
        "\n",
        "**Objective:** This notebook performs a hierarchical Bayesian analysis to test whether a single universal δ parameter describes all physical domains, or whether domain-specific δ values are preferred. We compute the Bayesian Information Criterion (BIC) to quantify evidence for universality.\n"
      ]
    },
    {
      "cell_type": "code",
      "execution_count": null,
      "metadata": {},
      "outputs": [],
      "source": [
        "import numpy as np\n",
        "import matplotlib.pyplot as plt\n",
        "import pandas as pd\n",
        "from scipy import stats\n",
        "import emcee\n",
        "import corner\n",
        "\n",
        "# Domain measurements of delta\n",
        "domains = ['Gravitational Waves', 'Black Hole Shadows', 'Quantum Entanglement', 'Cosmological Structure']\n",
        "delta_means = [0.48, 0.51, 0.493, 0.508]\n",
        "delta_errors = [0.15, 0.18, 0.041, 0.038]\n",
        "\n",
        "# Create hierarchical model\n",
        "def hierarchical_model_single_delta(theta, data):\n",
        "    \"\"\"Single universal delta model\"\"\"\n",
        "    mu_delta = theta[0]\n",
        "    log_likelihood = 0\n",
        "    for i, (mean, err) in enumerate(zip(delta_means, delta_errors)):\n",
        "        log_likelihood += stats.norm.logpdf(mean, mu_delta, err)\n",
        "    return log_likelihood\n",
        "\n",
        "def hierarchical_model_variable_delta(theta, data):\n",
        "    \"\"\"Variable delta model with inter-domain scatter\"\"\"\n",
        "    mu_delta, log_tau = theta\n",
        "    tau = np.exp(log_tau)\n",
        "    log_likelihood = 0\n",
        "    for i, (mean, err) in enumerate(zip(delta_means, delta_errors)):\n",
        "        sigma_total = np.sqrt(err**2 + tau**2)\n",
        "        log_likelihood += stats.norm.logpdf(mean, mu_delta, sigma_total)\n",
        "    return log_likelihood\n",
        "\n",
        "print(\"Domain measurements:\")\n",
        "for domain, mean, err in zip(domains, delta_means, delta_errors):\n",
        "    print(f\"{domain}: δ = {mean:.3f} ± {err:.3f}\")\n",
        "print(f\"\\\\nWeighted mean: δ = {np.average(delta_means, weights=1/np.array(delta_errors)**2):.3f}\")\n"
      ]
    }
  ],
  "metadata": {
    "language_info": {
      "name": "python"
    }
  },
  "nbformat": 4,
  "nbformat_minor": 2
}
