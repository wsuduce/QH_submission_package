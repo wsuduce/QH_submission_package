{
  "cells": [
    {
      "cell_type": "markdown",
      "metadata": {},
      "source": [
        "### Notebook: gw_delta_constraint.ipynb\n",
        "\n",
        "**Objective:** Extract constraints on δ from GW150914 ringdown analysis, accounting for astrophysical uncertainties in mass, spin, and distance. Compare with universal δ hypothesis.\n"
      ]
    },
    {
      "cell_type": "code",
      "execution_count": null,
      "metadata": {},
      "outputs": [],
      "source": [
        "import numpy as np\n",
        "import matplotlib.pyplot as plt\n",
        "import pandas as pd\n",
        "\n",
        "# Load GW150914 data\n",
        "gw_data = pd.read_csv('../data/gw150914_summary.csv')\n",
        "print(\"GW150914 posterior summary:\")\n",
        "print(gw_data)\n",
        "\n",
        "# Extract delta constraint\n",
        "delta_gw = gw_data[gw_data['parameter'] == 'delta_constraint']\n",
        "if not delta_gw.empty:\n",
        "    delta_mean = delta_gw['mean'].iloc[0]\n",
        "    delta_std = delta_gw['std'].iloc[0]\n",
        "    print(f\"\\\\nGW constraint: δ = {delta_mean:.3f} ± {delta_std:.3f}\")\n",
        "else:\n",
        "    # Mock constraint based on paper values\n",
        "    delta_mean = 0.48\n",
        "    delta_std = 0.15\n",
        "    print(f\"\\\\nGW constraint (derived): δ = {delta_mean:.3f} ± {delta_std:.3f}\")\n",
        "\n",
        "# Compare with universal value\n",
        "delta_universal = 0.502\n",
        "delta_universal_err = 0.031\n",
        "\n",
        "print(f\"Universal value: δ = {delta_universal:.3f} ± {delta_universal_err:.3f}\")\n",
        "print(f\"Difference: {abs(delta_mean - delta_universal)/np.sqrt(delta_std**2 + delta_universal_err**2):.2f}σ\")\n"
      ]
    }
  ],
  "metadata": {
    "language_info": {
      "name": "python"
    }
  },
  "nbformat": 4,
  "nbformat_minor": 2
}
