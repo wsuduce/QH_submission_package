{
  "cells": [
    {
      "cell_type": "markdown",
      "metadata": {},
      "source": [
        "### Notebook: gw_delta_constraint.ipynb\n",
        "\n",
        "**Objective:** Extract constraints on δ from GW150914 ringdown analysis, using posterior samples of final black hole mass and spin.\n"
      ]
    },
    {
      "cell_type": "code",
      "execution_count": null,
      "metadata": {},
      "outputs": [],
      "source": [
        "import numpy as np\n",
        "import matplotlib.pyplot as plt\n",
        "import pandas as pd\n",
        "\n",
        "# parameters (papermill-friendly)\n",
        "GW_SUMMARY = \"../data/gw150914_summary.csv\"\n",
        "\n",
        "# Load GW150914 data\n",
        "gw_data = pd.read_csv(GW_SUMMARY)\n",
        "print(\"GW150914 posterior summary:\")\n",
        "print(gw_data)\n",
        "\n",
        "# Extract delta constraint\n",
        "delta_gw = gw_data[gw_data['parameter'] == 'delta_constraint']\n",
        "if len(delta_gw) > 0:\n",
        "    delta_mean = delta_gw['mean'].iloc[0]\n",
        "    delta_std = delta_gw['std'].iloc[0]\n",
        "    print(f\"\\nGW150914 constraint: δ = {delta_mean:.3f} ± {delta_std:.3f}\")\n",
        "    \n",
        "    # Compare with universal value\n",
        "    delta_universal = 0.502\n",
        "    delta_universal_err = 0.031\n",
        "    \n",
        "    print(f\"Universal value: δ = {delta_universal:.3f} ± {delta_universal_err:.3f}\")\n",
        "    \n",
        "    # Statistical agreement\n",
        "    diff_sigma = abs(delta_mean - delta_universal) / np.sqrt(delta_std**2 + delta_universal_err**2)\n",
        "    print(f\"Agreement: {diff_sigma:.2f}σ difference\")\n",
        "else:\n",
        "    print(\"❌ No delta_constraint found in GW data\")\n"
      ]
    }
  ],
  "metadata": {
    "kernelspec": {
      "display_name": "Python 3",
      "language": "python",
      "name": "python3"
    },
    "language_info": {
      "codemirror_mode": {
        "name": "ipython",
        "version": 3
      },
      "file_extension": ".py",
      "mimetype": "text/x-python",
      "name": "python",
      "nbconvert_exporter": "python",
      "pygments_lexer": "ipython3",
      "version": "3.12.6"
    }
  },
  "nbformat": 4,
  "nbformat_minor": 2
}