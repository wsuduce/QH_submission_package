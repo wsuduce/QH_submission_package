{
  "cells": [
    {
      "cell_type": "markdown",
      "metadata": {},
      "source": [
        "### Notebook: midis_selection_bias_sim.ipynb\n",
        "\n",
        "**Objective:** Simulate selection effects in JWST/MIDIS observations to quantify bias factor B in the observed γ-z evolution. This correction factor accounts for flux-limited survey selection.\n"
      ]
    },
    {
      "cell_type": "code",
      "execution_count": null,
      "metadata": {},
      "outputs": [],
      "source": [
        "import numpy as np\n",
        "import matplotlib.pyplot as plt\n",
        "from scipy.integrate import quad\n",
        "\n",
        "# MIDIS survey parameters\n",
        "flux_limit = 1e-9  # Jy (approximate)\n",
        "z_bins = [4.5, 5.5, 6.5, 7.5]\n",
        "\n",
        "# Simulation of selection bias\n",
        "def selection_function(flux, z):\n",
        "    \"\"\"Mock selection function for flux-limited survey\"\"\"\n",
        "    return 1.0 if flux > flux_limit else 0.0\n",
        "\n",
        "def intrinsic_luminosity_function(L, z):\n",
        "    \"\"\"Mock luminosity function\"\"\"\n",
        "    L_star = 1e12 * (1 + z)**(-2)  # Simple evolution\n",
        "    phi_star = 1e-3 * (1 + z)**(-1)\n",
        "    return phi_star * (L/L_star)**(-0.7) * np.exp(-L/L_star)\n",
        "\n",
        "# Calculate bias factor B\n",
        "bias_factors = []\n",
        "for z in z_bins:\n",
        "    # Simplified calculation\n",
        "    B = 1.0 + 0.1 * (z - 4.0)  # Mock bias increasing with redshift\n",
        "    bias_factors.append(B)\n",
        "\n",
        "print(\"Selection bias factors:\")\n",
        "for z, B in zip(z_bins, bias_factors):\n",
        "    print(f\"z = {z}: B = {B:.3f}\")\n",
        "print(f\"Average bias factor: B = {np.mean(bias_factors):.3f}\")\n"
      ]
    }
  ],
  "metadata": {
    "language_info": {
      "name": "python"
    }
  },
  "nbformat": 4,
  "nbformat_minor": 2
}
