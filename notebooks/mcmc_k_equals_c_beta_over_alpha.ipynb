version https://git-lfs.github.com/spec/v1
oid sha256:14ea858851fb7a42509121741b198b3e77bbc954b9e56b8840cf5890d8361144
size 3576
