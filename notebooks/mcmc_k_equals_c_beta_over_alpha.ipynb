{
  "cells": [
    {
      "cell_type": "markdown",
      "metadata": {},
      "source": [
        "### Notebook: mcmc_k_equals_c_beta_over_alpha.ipynb\n",
        "\n",
        "**Objective:** Test the hypothesis that the observed decay constant k equals c × (β/α) where c ≈ 1 is a normalization factor. Use MCMC to fit MIDIS data and extract c.\n"
      ]
    },
    {
      "cell_type": "code",
      "execution_count": null,
      "metadata": {},
      "outputs": [],
      "source": [
        "import numpy as np\n",
        "import matplotlib.pyplot as plt\n",
        "import pandas as pd\n",
        "import emcee\n",
        "from scipy.optimize import minimize\n",
        "\n",
        "# parameters (papermill-friendly)\n",
        "DATA_CSV = \"data/midis_f560w_masslim.csv\"\n",
        "\n",
        "# Load MIDIS data from SST source\n",
        "midis_data = pd.read_csv(DATA_CSV)\n",
        "print(\"MIDIS observational data:\")\n",
        "print(midis_data)\n",
        "\n",
        "# QH parameters\n",
        "alpha = 0.314\n",
        "beta = 0.0158\n",
        "beta_over_alpha = beta / alpha\n",
        "\n",
        "# Define model\n",
        "def model(z, c, gamma_0):\n",
        "    \"\"\"Exponential decay model with normalization c\"\"\"\n",
        "    k_pred = c * beta_over_alpha\n",
        "    return gamma_0 * np.exp(-k_pred * z)\n",
        "\n",
        "# Likelihood function\n",
        "def log_likelihood(theta, z, gamma_obs, gamma_err):\n",
        "    c, gamma_0 = theta\n",
        "    gamma_pred = model(z, c, gamma_0)\n",
        "    chi2 = np.sum((gamma_obs - gamma_pred)**2 / gamma_err**2)\n",
        "    return -0.5 * chi2\n",
        "\n",
        "# MCMC analysis\n",
        "def log_prior(theta):\n",
        "    c, gamma_0 = theta\n",
        "    if 0.5 < c < 2.0 and 10.0 < gamma_0 < 100.0:\n",
        "        return 0.0\n",
        "    return -np.inf\n",
        "\n",
        "def log_probability(theta, z, gamma_obs, gamma_err):\n",
        "    lp = log_prior(theta)\n",
        "    if not np.isfinite(lp):\n",
        "        return -np.inf\n",
        "    return lp + log_likelihood(theta, z, gamma_obs, gamma_err)\n",
        "\n",
        "# Initial guess\n",
        "theta_init = [1.0, 50.0]\n",
        "print(f\"\\\\nTesting c = {theta_init[0]:.1f} (should be ≈ 1.0)\")\n",
        "print(f\"β/α = {beta_over_alpha:.4f}\")\n",
        "print(f\"Predicted k = c × β/α = {theta_init[0] * beta_over_alpha:.4f}\")\n"
      ]
    }
  ],
  "metadata": {
    "language_info": {
      "name": "python"
    }
  },
  "nbformat": 4,
  "nbformat_minor": 2
}
