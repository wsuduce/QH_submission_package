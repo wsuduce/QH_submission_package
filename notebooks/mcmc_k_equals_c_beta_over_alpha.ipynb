version https://git-lfs.github.com/spec/v1
oid sha256:7f107d706ff2924cb89aa7a116c0f25d68eff71d7efb9955d170d6c018f470d2
size 2649
