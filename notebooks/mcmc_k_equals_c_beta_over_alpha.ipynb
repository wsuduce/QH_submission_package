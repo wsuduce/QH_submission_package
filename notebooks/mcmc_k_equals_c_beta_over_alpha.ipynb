version https://git-lfs.github.com/spec/v1
oid sha256:ca55965a7662b82d0cb8bbbe692f87a67604ea1522f5a55d461ae79543703637
size 3576
