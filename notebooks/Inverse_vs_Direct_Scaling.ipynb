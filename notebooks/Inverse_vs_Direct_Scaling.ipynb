{
  "cells": [
    {
      "cell_type": "markdown",
      "metadata": {},
      "source": [
        "# Inverse vs Direct Scale: QH Planckian Demo\n",
        "\n",
        "This short notebook compares the inverse mapping `S(T)=T0/T` to a direct mapping `S(T)=T/T0` and shows why the inverse choice preserves near-linearity in the Planckian proxy `rho_QH(T) ∝ T·dS_eff/dT`. \n",
        "\n"
      ]
    },
    {
      "cell_type": "code",
      "execution_count": null,
      "metadata": {},
      "outputs": [],
      "source": [
        "import numpy as np\n",
        "import matplotlib.pyplot as plt\n",
        "from pathlib import Path\n",
        "import sys\n",
        "\n",
        "# add project root to path\n",
        "PROJECT_ROOT = Path(__file__).resolve().parents[1]\n",
        "if str(PROJECT_ROOT) not in sys.path:\n",
        "    sys.path.insert(0, str(PROJECT_ROOT))\n",
        "\n",
        "from src.core.temporal_entropy import resistivity_proxy\n",
        "\n",
        "T = np.geomspace(2.0, 300.0, 400)\n",
        "rho_inv = resistivity_proxy(T, scale_mode='inverse')\n",
        "rho_dir = resistivity_proxy(T, scale_mode='direct')\n",
        "\n",
        "plt.figure(figsize=(7,4))\n",
        "plt.plot(T, rho_inv/ rho_inv[0], label='inverse (normalized)')\n",
        "plt.plot(T, rho_dir/ rho_dir[0], label='direct (normalized)')\n",
        "plt.xlabel('Temperature (K)')\n",
        "plt.ylabel('rho (arb., normalized)')\n",
        "plt.legend(); plt.grid(True, alpha=0.3); plt.tight_layout()\n",
        "plt.show()\n",
        "\n"
      ]
    }
  ],
  "metadata": {
    "language_info": {
      "name": "python"
    }
  },
  "nbformat": 4,
  "nbformat_minor": 2
}
